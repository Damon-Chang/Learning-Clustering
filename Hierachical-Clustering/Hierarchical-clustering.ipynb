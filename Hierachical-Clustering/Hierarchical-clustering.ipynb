{
 "cells": [
  {
   "cell_type": "markdown",
   "id": "dc5af209",
   "metadata": {},
   "source": [
    "### 层次聚类（hierarchical clustering）试图在不同的层次对数据集进行划分，从而形成树形的聚类结构。"
   ]
  },
  {
   "cell_type": "markdown",
   "id": "96e2fa3d",
   "metadata": {},
   "source": [
    "AGNES(AGglomerative NESting)是一种自底向上聚合策略的层次聚类算法。他先将数据集中的每个样本看作一个初始聚类簇，然后在算法运行的每一步中找出距离最近的两个聚类簇并进行合并，该过程不断重复，直至达到预设的聚类簇个数。这里的关键是如何计算聚类簇之间的距离。"
   ]
  },
  {
   "cell_type": "markdown",
   "id": "6e2208ab",
   "metadata": {},
   "source": [
    "常见距离计算方法。1.最小距离，取两簇之间最短距离——此时AGNES算法被称为单链接（single-linkage）算法；2.最大距离，顾名思义——此时AGNES算法被称为全链接（complete-linkage）算法；3.平均距离——均链接（average-linkage）算法"
   ]
  },
  {
   "cell_type": "code",
   "execution_count": 1,
   "id": "2bce80ff",
   "metadata": {},
   "outputs": [],
   "source": [
    "import numpy as np\n",
    "import matplotlib.pyplot as plt\n",
    "import time\n",
    "import pandas as pd\n",
    "import copy\n",
    "import random\n",
    "from pylab import mpl\n",
    "mpl.rcParams['font.sans-serif'] = ['SimHei']"
   ]
  },
  {
   "cell_type": "markdown",
   "id": "d3cc699f",
   "metadata": {},
   "source": [
    "#### 数据处理"
   ]
  },
  {
   "cell_type": "code",
   "execution_count": 2,
   "id": "a9b1406c",
   "metadata": {},
   "outputs": [],
   "source": [
    "dataSet = pd.read_excel(r'D:\\a学业信计\\a研究生\\数据集\\西瓜书\\watermelon4.0.xlsx')\n",
    "data = dataSet.values\n",
    "labels = dataSet.columns.values\n",
    "indexs = dataSet.index.values\n",
    "data = data.tolist()"
   ]
  },
  {
   "cell_type": "markdown",
   "id": "7e2a0a35",
   "metadata": {},
   "source": [
    "#### 定义函数"
   ]
  },
  {
   "cell_type": "code",
   "execution_count": 3,
   "id": "ab9357a7",
   "metadata": {},
   "outputs": [],
   "source": [
    "def EuclideanMetric(x, y):\n",
    "    #定义距离函数，计算欧氏距离\n",
    "    return np.sqrt(sum(pow(np.array(x) - np.array(y), 2)))"
   ]
  },
  {
   "cell_type": "code",
   "execution_count": 4,
   "id": "8c460abe",
   "metadata": {},
   "outputs": [],
   "source": [
    "def show_now_kmeans(C, k):\n",
    "    #根据当前划分结果绘制聚类图象\n",
    "    colors = ['b', 'y', 'g', 'c', 'k', 'r', 'm', 'orange', 'mistyrose', 'gold']\n",
    "    plt.figure()\n",
    "    for i in range(k):\n",
    "        plt.plot(np.array(C[i])[:,0], np.array(C[i])[:,1], colors[i] + '.', label = '类别' + str(i + 1))\n",
    "    \n",
    "    plt.xlabel(labels[0])\n",
    "    plt.ylabel(labels[1])"
   ]
  },
  {
   "cell_type": "code",
   "execution_count": 5,
   "id": "cdd665ed",
   "metadata": {},
   "outputs": [],
   "source": [
    "def distance_metric(C_i, C_j):\n",
    "    #返回两个簇之间的距离矩阵\n",
    "    dist_metric = np.zeros((len(C_i), len(C_j)))\n",
    "    for i in range(len(C_i)):\n",
    "        for j in range(len(C_j)):\n",
    "            dist_metric[i][j] = EuclideanMetric(C_i[i], C_j[j])\n",
    "    return dist_metric\n",
    "\n",
    "def d_min(C_i, C_j):\n",
    "    #返回两个簇之间的最小距离\n",
    "    return distance_metric(C_i, C_j).min()\n",
    "\n",
    "def d_max(C_i, C_j):\n",
    "    #返回两个簇之间的最大值\n",
    "    return distance_metric(C_i, C_j).max()\n",
    "\n",
    "def d_avg(C_i, C_j):\n",
    "    #返回两个簇之间的平均距离\n",
    "    return np.sum(distance_metric(C_i, C_j)) / (len(C_i) * len(C_j))\n",
    "    "
   ]
  },
  {
   "cell_type": "code",
   "execution_count": 6,
   "id": "9d234462",
   "metadata": {},
   "outputs": [
    {
     "name": "stdout",
     "output_type": "stream",
     "text": [
      "[[5.65685425]\n",
      " [4.47213595]]\n",
      "5.757752477800684\n"
     ]
    }
   ],
   "source": [
    "print(distance_metric([[1,2],[1,4]],[[5,6]]))\n",
    "print(d_avg([[1,2],[1,4]],[[5,6],[6,7]]))"
   ]
  },
  {
   "cell_type": "code",
   "execution_count": 7,
   "id": "e129a728",
   "metadata": {},
   "outputs": [],
   "source": [
    "def AGNES(data, dist, k):\n",
    "    '''\n",
    "    data:数据集\n",
    "    dist:度量函数\n",
    "    k:聚类簇数\n",
    "    '''\n",
    "    C = []#簇集合\n",
    "    for i in range(len(data)):#初始化单样本聚类簇\n",
    "        C_i = []\n",
    "        C_i.append(data[i])\n",
    "        C.append(C_i)\n",
    "    #print(C)#check\n",
    "    \n",
    "    all_C_metric = np.ones((len(data), len(data))) * 100\n",
    "    for i in range(len(data)):#初始化聚类簇距离矩阵\n",
    "        for j in range(i + 1, len(data)):\n",
    "            all_C_metric[i][j] = dist(C[i], C[j])\n",
    "            all_C_metric[j][i] = all_C_metric[i][j]\n",
    "    \n",
    "    q = len(data)#设置当前簇聚类个数\n",
    "    while q > k:\n",
    "        min_index = np.unravel_index(all_C_metric.argmin(), all_C_metric.shape) \n",
    "        j = max(min_index)\n",
    "        i = min(min_index)\n",
    "        C[i].extend(C[j])#合并两个聚类簇\n",
    "        #for j in range(j + 1, q):#重新编号后面的聚类簇\n",
    "        #    C[j - 1] = C[j]\n",
    "        C.pop(j)\n",
    "        \n",
    "        #print('检查', q, len(C))#check应该是每次都减一\n",
    "        all_C_metric = np.delete(all_C_metric, j, axis = 0)\n",
    "        all_C_metric = np.delete(all_C_metric, j, axis = 1)#删除距离矩阵all_C_metric的第j行j列\n",
    "        for j in range(q - 1):#更新距离矩阵\n",
    "            all_C_metric[i][j] = dist(C[i], C[j])\n",
    "            all_C_metric[j][i] = all_C_metric[j][i]\n",
    "            all_C_metric[i][i] = 100\n",
    "        q -= 1\n",
    "    return C"
   ]
  },
  {
   "cell_type": "code",
   "execution_count": 8,
   "id": "63c0fcb6",
   "metadata": {
    "scrolled": true
   },
   "outputs": [],
   "source": [
    "k = 4\n",
    "C = AGNES(data, d_max, k)"
   ]
  },
  {
   "cell_type": "code",
   "execution_count": 9,
   "id": "2ca8117f",
   "metadata": {},
   "outputs": [
    {
     "data": {
      "text/plain": [
       "<matplotlib.legend.Legend at 0x208a0818f10>"
      ]
     },
     "execution_count": 9,
     "metadata": {},
     "output_type": "execute_result"
    },
    {
     "data": {
      "image/png": "[encoded data removed]",
      "text/plain": [
       "<Figure size 432x288 with 1 Axes>"
      ]
     },
     "metadata": {
      "needs_background": "light"
     },
     "output_type": "display_data"
    }
   ],
   "source": [
    "show_now_kmeans(C, k)\n",
    "plt.title('AGNES层次聚类')\n",
    "plt.legend()"
   ]
  },
  {
   "cell_type": "code",
   "execution_count": null,
   "id": "4b4f6009",
   "metadata": {},
   "outputs": [],
   "source": []
  },
  {
   "cell_type": "markdown",
   "id": "80745912",
   "metadata": {},
   "source": [
    "#### 问：AGNES算法使用最小距离和最大距离的区别？"
   ]
  },
  {
   "cell_type": "markdown",
   "id": "8aaed7d0",
   "metadata": {},
   "source": [
    "分析：最小距离要合并的是两个簇边界最短的簇，适合簇内联系区别较大的情况，也就是要分类的类别数量比较大，比如一种样本的数量占大多数。最大距离比较更平均地进行划分。"
   ]
  },
  {
   "cell_type": "markdown",
   "id": "9a5fa92c",
   "metadata": {},
   "source": [
    "### 使用scipy方法实现层次聚类"
   ]
  },
  {
   "cell_type": "code",
   "execution_count": 10,
   "id": "c50aafb4",
   "metadata": {},
   "outputs": [],
   "source": [
    "from scipy.cluster.hierarchy import dendrogram, linkage, fcluster"
   ]
  },
  {
   "cell_type": "markdown",
   "id": "97f938fc",
   "metadata": {},
   "source": [
    "#### 绘制样本数据的图象"
   ]
  },
  {
   "cell_type": "code",
   "execution_count": 19,
   "id": "3ab6e8ac",
   "metadata": {},
   "outputs": [
    {
     "data": {
      "image/png": "[encoded data removed]",
      "text/plain": [
       "<Figure size 432x288 with 1 Axes>"
      ]
     },
     "metadata": {
      "needs_background": "light"
     },
     "output_type": "display_data"
    },
    {
     "data": {
      "text/plain": [
       "True"
      ]
     },
     "execution_count": 19,
     "metadata": {},
     "output_type": "execute_result"
    }
   ],
   "source": [
    "def show_2D_data(data):\n",
    "    plt.figure()\n",
    "    data_new = np.array(data)\n",
    "    plt.scatter(data_new[:,0], data_new[:,1], marker = '.', color = 'r')\n",
    "    for i, point in enumerate(data):#annotate函数为每个点标注坐标\n",
    "        plt.annotate('(%s,%s)' % (point[0],point[1]), point, xytext = (-30,5), textcoords = 'offset points', color = 'k')\n",
    "    plt.show()\n",
    "    return True\n",
    "show_2D_data(data)"
   ]
  },
  {
   "cell_type": "markdown",
   "id": "6dfbfcc2",
   "metadata": {},
   "source": [
    "#### 层次聚类"
   ]
  },
  {
   "cell_type": "markdown",
   "id": "d383ef9a",
   "metadata": {},
   "source": [
    "linkage方法用于计算两个聚类簇s和t之间的距离d(s,t)，层次聚类编码为一个linkage矩阵。"
   ]
  },
  {
   "cell_type": "code",
   "execution_count": 14,
   "id": "5d734844",
   "metadata": {
    "scrolled": true
   },
   "outputs": [
    {
     "name": "stdout",
     "output_type": "stream",
     "text": [
      "聚类过程\n",
      " [[0.00000000e+00 2.30000000e+01 3.17647603e-02 2.00000000e+00]\n",
      " [2.20000000e+01 2.90000000e+01 3.88329757e-02 2.00000000e+00]\n",
      " [2.50000000e+01 2.70000000e+01 4.02616443e-02 2.00000000e+00]\n",
      " [1.40000000e+01 2.00000000e+01 4.11460812e-02 2.00000000e+00]\n",
      " [1.00000000e+00 1.30000000e+01 4.28018691e-02 2.00000000e+00]\n",
      " [1.70000000e+01 2.80000000e+01 5.24690385e-02 2.00000000e+00]\n",
      " [9.00000000e+00 1.90000000e+01 5.43415127e-02 2.00000000e+00]\n",
      " [5.00000000e+00 3.00000000e+01 5.62010505e-02 3.00000000e+00]\n",
      " [1.50000000e+01 2.10000000e+01 5.66480362e-02 2.00000000e+00]\n",
      " [1.20000000e+01 1.80000000e+01 5.99332963e-02 2.00000000e+00]\n",
      " [6.00000000e+00 1.00000000e+01 6.70820393e-02 2.00000000e+00]\n",
      " [1.60000000e+01 3.50000000e+01 6.77895406e-02 3.00000000e+00]\n",
      " [1.10000000e+01 3.10000000e+01 7.56638053e-02 3.00000000e+00]\n",
      " [3.40000000e+01 3.80000000e+01 7.84475399e-02 4.00000000e+00]\n",
      " [3.30000000e+01 3.60000000e+01 9.86647673e-02 4.00000000e+00]\n",
      " [7.00000000e+00 2.40000000e+01 9.99049548e-02 2.00000000e+00]\n",
      " [2.00000000e+00 8.00000000e+00 1.06620823e-01 2.00000000e+00]\n",
      " [4.10000000e+01 4.20000000e+01 1.12315564e-01 6.00000000e+00]\n",
      " [3.70000000e+01 4.00000000e+01 1.12746047e-01 5.00000000e+00]\n",
      " [4.00000000e+00 4.40000000e+01 1.30639679e-01 5.00000000e+00]\n",
      " [3.20000000e+01 4.30000000e+01 1.31429069e-01 6.00000000e+00]\n",
      " [2.60000000e+01 4.70000000e+01 1.45596259e-01 7.00000000e+00]\n",
      " [3.90000000e+01 4.50000000e+01 1.52574058e-01 4.00000000e+00]\n",
      " [3.00000000e+00 4.90000000e+01 1.53862592e-01 6.00000000e+00]\n",
      " [5.20000000e+01 5.30000000e+01 1.76181347e-01 1.00000000e+01]\n",
      " [4.60000000e+01 5.00000000e+01 1.81114720e-01 8.00000000e+00]\n",
      " [5.10000000e+01 5.50000000e+01 2.62026573e-01 1.50000000e+01]\n",
      " [4.80000000e+01 5.40000000e+01 2.79452411e-01 1.50000000e+01]\n",
      " [5.60000000e+01 5.70000000e+01 3.29199576e-01 3.00000000e+01]]\n"
     ]
    }
   ],
   "source": [
    "Z = linkage(data_new, 'average')\n",
    "print('聚类过程\\n', Z)"
   ]
  },
  {
   "cell_type": "code",
   "execution_count": null,
   "id": "af1eb260",
   "metadata": {},
   "outputs": [],
   "source": []
  },
  {
   "cell_type": "markdown",
   "id": "bff8e202",
   "metadata": {},
   "source": [
    "#### 根据层级聚类结果linkage矩阵将结果以树状图表示出来"
   ]
  },
  {
   "cell_type": "code",
   "execution_count": 15,
   "id": "a4a8b622",
   "metadata": {},
   "outputs": [
    {
     "data": {
      "image/png": "[encoded data removed]",
      "text/plain": [
       "<Figure size 432x288 with 1 Axes>"
      ]
     },
     "metadata": {
      "needs_background": "light"
     },
     "output_type": "display_data"
    }
   ],
   "source": [
    "plt.figure()\n",
    "dn = dendrogram(Z)#dengrogram树状图\n",
    "plt.show()"
   ]
  },
  {
   "cell_type": "markdown",
   "id": "0566231f",
   "metadata": {},
   "source": [
    "#### 从给定linkage链接矩阵定义的层次聚类中形成平面聚类"
   ]
  },
  {
   "cell_type": "code",
   "execution_count": 26,
   "id": "a4830b5b",
   "metadata": {
    "scrolled": true
   },
   "outputs": [
    {
     "name": "stdout",
     "output_type": "stream",
     "text": [
      "平面聚类结果:\n",
      " [3 2 2 4 4 3 3 4 2 4 3 1 4 2 4 2 1 1 4 4 4 2 1 3 4 2 1 2 1 1]\n"
     ]
    }
   ],
   "source": [
    "f = fcluster(Z, 0.2, 'distance')\n",
    "print('平面聚类结果:\\n', f)"
   ]
  },
  {
   "cell_type": "markdown",
   "id": "7971281e",
   "metadata": {},
   "source": [
    "#### 结果可视化"
   ]
  },
  {
   "cell_type": "code",
   "execution_count": 28,
   "id": "202d8c52",
   "metadata": {},
   "outputs": [
    {
     "data": {
      "text/plain": [
       "Text(0.5, 1.0, 'scipy层次聚类可视化')"
      ]
     },
     "execution_count": 28,
     "metadata": {},
     "output_type": "execute_result"
    },
    {
     "data": {
      "image/png": "[encoded data removed]",
      "text/plain": [
       "<Figure size 432x288 with 1 Axes>"
      ]
     },
     "metadata": {
      "needs_background": "light"
     },
     "output_type": "display_data"
    }
   ],
   "source": [
    "def show_clustered_samples(f):#基于分类后的样本对应标签clustered_indexs向量可视化\n",
    "    n_clusters = max(f)\n",
    "    C = []\n",
    "    for i in range(n_clusters):\n",
    "        C.append([])\n",
    "    for i in range(len(f)):\n",
    "        C[f[i] - 1].append(data_new[i])\n",
    "    show_now_kmeans(C,n_clusters)\n",
    "    return True\n",
    "show_clustered_samples(f)\n",
    "plt.title('scipy层次聚类可视化')"
   ]
  },
  {
   "cell_type": "code",
   "execution_count": null,
   "id": "df50c55d",
   "metadata": {},
   "outputs": [],
   "source": []
  },
  {
   "cell_type": "markdown",
   "id": "7e9392a3",
   "metadata": {},
   "source": [
    "## 使用sklearn实现层次聚类hierachical clastering"
   ]
  },
  {
   "cell_type": "code",
   "execution_count": 18,
   "id": "278af918",
   "metadata": {},
   "outputs": [],
   "source": [
    "from sklearn.cluster import AgglomerativeClustering"
   ]
  },
  {
   "cell_type": "code",
   "execution_count": 20,
   "id": "64f3b62d",
   "metadata": {},
   "outputs": [
    {
     "data": {
      "image/png": "[encoded data removed]",
      "text/plain": [
       "<Figure size 432x288 with 1 Axes>"
      ]
     },
     "metadata": {
      "needs_background": "light"
     },
     "output_type": "display_data"
    },
    {
     "data": {
      "text/plain": [
       "True"
      ]
     },
     "execution_count": 20,
     "metadata": {},
     "output_type": "execute_result"
    }
   ],
   "source": [
    "show_2D_data(data)"
   ]
  },
  {
   "cell_type": "markdown",
   "id": "4bc25c69",
   "metadata": {},
   "source": [
    "#### 训练模型"
   ]
  },
  {
   "cell_type": "code",
   "execution_count": 21,
   "id": "c63a8a78",
   "metadata": {},
   "outputs": [],
   "source": [
    "ac = AgglomerativeClustering(n_clusters = 3, affinity = 'euclidean', linkage = 'average')\n",
    "clustering = ac.fit(data)"
   ]
  },
  {
   "cell_type": "code",
   "execution_count": 22,
   "id": "162fa5ad",
   "metadata": {},
   "outputs": [
    {
     "data": {
      "text/html": [
       "<style>#sk-container-id-1 {color: black;background-color: white;}#sk-container-id-1 pre{padding: 0;}#sk-container-id-1 div.sk-toggleable {background-color: white;}#sk-container-id-1 label.sk-toggleable__label {cursor: pointer;display: block;width: 100%;margin-bottom: 0;padding: 0.3em;box-sizing: border-box;text-align: center;}#sk-container-id-1 label.sk-toggleable__label-arrow:before {content: \"▸\";float: left;margin-right: 0.25em;color: #696969;}#sk-container-id-1 label.sk-toggleable__label-arrow:hover:before {color: black;}#sk-container-id-1 div.sk-estimator:hover label.sk-toggleable__label-arrow:before {color: black;}#sk-container-id-1 div.sk-toggleable__content {max-height: 0;max-width: 0;overflow: hidden;text-align: left;background-color: #f0f8ff;}#sk-container-id-1 div.sk-toggleable__content pre {margin: 0.2em;color: black;border-radius: 0.25em;background-color: #f0f8ff;}#sk-container-id-1 input.sk-toggleable__control:checked~div.sk-toggleable__content {max-height: 200px;max-width: 100%;overflow: auto;}#sk-container-id-1 input.sk-toggleable__control:checked~label.sk-toggleable__label-arrow:before {content: \"▾\";}#sk-container-id-1 div.sk-estimator input.sk-toggleable__control:checked~label.sk-toggleable__label {background-color: #d4ebff;}#sk-container-id-1 div.sk-label input.sk-toggleable__control:checked~label.sk-toggleable__label {background-color: #d4ebff;}#sk-container-id-1 input.sk-hidden--visually {border: 0;clip: rect(1px 1px 1px 1px);clip: rect(1px, 1px, 1px, 1px);height: 1px;margin: -1px;overflow: hidden;padding: 0;position: absolute;width: 1px;}#sk-container-id-1 div.sk-estimator {font-family: monospace;background-color: #f0f8ff;border: 1px dotted black;border-radius: 0.25em;box-sizing: border-box;margin-bottom: 0.5em;}#sk-container-id-1 div.sk-estimator:hover {background-color: #d4ebff;}#sk-container-id-1 div.sk-parallel-item::after {content: \"\";width: 100%;border-bottom: 1px solid gray;flex-grow: 1;}#sk-container-id-1 div.sk-label:hover label.sk-toggleable__label {background-color: #d4ebff;}#sk-container-id-1 div.sk-serial::before {content: \"\";position: absolute;border-left: 1px solid gray;box-sizing: border-box;top: 0;bottom: 0;left: 50%;z-index: 0;}#sk-container-id-1 div.sk-serial {display: flex;flex-direction: column;align-items: center;background-color: white;padding-right: 0.2em;padding-left: 0.2em;position: relative;}#sk-container-id-1 div.sk-item {position: relative;z-index: 1;}#sk-container-id-1 div.sk-parallel {display: flex;align-items: stretch;justify-content: center;background-color: white;position: relative;}#sk-container-id-1 div.sk-item::before, #sk-container-id-1 div.sk-parallel-item::before {content: \"\";position: absolute;border-left: 1px solid gray;box-sizing: border-box;top: 0;bottom: 0;left: 50%;z-index: -1;}#sk-container-id-1 div.sk-parallel-item {display: flex;flex-direction: column;z-index: 1;position: relative;background-color: white;}#sk-container-id-1 div.sk-parallel-item:first-child::after {align-self: flex-end;width: 50%;}#sk-container-id-1 div.sk-parallel-item:last-child::after {align-self: flex-start;width: 50%;}#sk-container-id-1 div.sk-parallel-item:only-child::after {width: 0;}#sk-container-id-1 div.sk-dashed-wrapped {border: 1px dashed gray;margin: 0 0.4em 0.5em 0.4em;box-sizing: border-box;padding-bottom: 0.4em;background-color: white;}#sk-container-id-1 div.sk-label label {font-family: monospace;font-weight: bold;display: inline-block;line-height: 1.2em;}#sk-container-id-1 div.sk-label-container {text-align: center;}#sk-container-id-1 div.sk-container {/* jupyter's `normalize.less` sets `[hidden] { display: none; }` but bootstrap.min.css set `[hidden] { display: none !important; }` so we also need the `!important` here to be able to override the default hidden behavior on the sphinx rendered scikit-learn.org. See: https://github.com/scikit-learn/scikit-learn/issues/21755 */display: inline-block !important;position: relative;}#sk-container-id-1 div.sk-text-repr-fallback {display: none;}</style><div id=\"sk-container-id-1\" class=\"sk-top-container\"><div class=\"sk-text-repr-fallback\"><pre>AgglomerativeClustering(linkage=&#x27;average&#x27;, n_clusters=3)</pre><b>In a Jupyter environment, please rerun this cell to show the HTML representation or trust the notebook. <br />On GitHub, the HTML representation is unable to render, please try loading this page with nbviewer.org.</b></div><div class=\"sk-container\" hidden><div class=\"sk-item\"><div class=\"sk-estimator sk-toggleable\"><input class=\"sk-toggleable__control sk-hidden--visually\" id=\"sk-estimator-id-1\" type=\"checkbox\" checked><label for=\"sk-estimator-id-1\" class=\"sk-toggleable__label sk-toggleable__label-arrow\">AgglomerativeClustering</label><div class=\"sk-toggleable__content\"><pre>AgglomerativeClustering(linkage=&#x27;average&#x27;, n_clusters=3)</pre></div></div></div></div></div>"
      ],
      "text/plain": [
       "AgglomerativeClustering(linkage='average', n_clusters=3)"
      ]
     },
     "execution_count": 22,
     "metadata": {},
     "output_type": "execute_result"
    }
   ],
   "source": [
    "clustering"
   ]
  },
  {
   "cell_type": "code",
   "execution_count": 24,
   "id": "39ae7a9e",
   "metadata": {
    "scrolled": true
   },
   "outputs": [
    {
     "name": "stdout",
     "output_type": "stream",
     "text": [
      "每个数据所属簇编号 [2 0 0 1 1 2 2 1 0 1 2 0 1 0 1 0 0 0 1 1 1 0 0 2 1 0 0 0 0 0]\n",
      "每个簇形成过程 [[ 0 23]\n",
      " [22 29]\n",
      " [25 27]\n",
      " [14 20]\n",
      " [ 1 13]\n",
      " [17 28]\n",
      " [ 9 19]\n",
      " [ 5 30]\n",
      " [15 21]\n",
      " [12 18]\n",
      " [ 6 10]\n",
      " [16 35]\n",
      " [11 31]\n",
      " [34 38]\n",
      " [33 36]\n",
      " [ 7 24]\n",
      " [ 2  8]\n",
      " [41 42]\n",
      " [37 40]\n",
      " [ 4 44]\n",
      " [32 43]\n",
      " [26 47]\n",
      " [39 45]\n",
      " [ 3 49]\n",
      " [52 53]\n",
      " [46 50]\n",
      " [51 55]\n",
      " [48 54]\n",
      " [56 57]]\n"
     ]
    }
   ],
   "source": [
    "print('每个数据所属簇编号', clustering.labels_)\n",
    "print('每个簇形成过程', clustering.children_)"
   ]
  },
  {
   "cell_type": "markdown",
   "id": "d6468b77",
   "metadata": {},
   "source": [
    "簇成员表示簇的形成过程"
   ]
  },
  {
   "cell_type": "markdown",
   "id": "5ed932c9",
   "metadata": {},
   "source": [
    "#### 结果可视化"
   ]
  },
  {
   "cell_type": "code",
   "execution_count": 30,
   "id": "54e89cdf",
   "metadata": {},
   "outputs": [
    {
     "data": {
      "text/plain": [
       "Text(0.5, 1.0, 'sklearn聚类结果可视化')"
      ]
     },
     "execution_count": 30,
     "metadata": {},
     "output_type": "execute_result"
    },
    {
     "data": {
      "image/png": "[encoded data removed]",
      "text/plain": [
       "<Figure size 432x288 with 1 Axes>"
      ]
     },
     "metadata": {
      "needs_background": "light"
     },
     "output_type": "display_data"
    }
   ],
   "source": [
    "show_clustered_samples(clustering.labels_ + 1)\n",
    "plt.title('sklearn聚类结果可视化')"
   ]
  },
  {
   "cell_type": "code",
   "execution_count": null,
   "id": "0c14e326",
   "metadata": {},
   "outputs": [],
   "source": []
  }
 ],
 "metadata": {
  "kernelspec": {
   "display_name": "Python 3 (ipykernel)",
   "language": "python",
   "name": "python3"
  },
  "language_info": {
   "codemirror_mode": {
    "name": "ipython",
    "version": 3
   },
   "file_extension": ".py",
   "mimetype": "text/x-python",
   "name": "python",
   "nbconvert_exporter": "python",
   "pygments_lexer": "ipython3",
   "version": "3.8.13"
  }
 },
 "nbformat": 4,
 "nbformat_minor": 5
}
