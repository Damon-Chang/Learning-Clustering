{
 "cells": [
  {
   "cell_type": "markdown",
   "id": "dc5af209",
   "metadata": {},
   "source": [
    "### 层次聚类（hierarchical clustering）试图在不同的层次对数据集进行划分，从而形成树形的聚类结构。"
   ]
  },
  {
   "cell_type": "markdown",
   "id": "96e2fa3d",
   "metadata": {},
   "source": [
    "AGNES(AGglomerative NESting)是一种自底向上聚合策略的层次聚类算法。他先将数据集中的每个样本看作一个初始聚类簇，然后在算法运行的每一步中找出距离最近的两个聚类簇并进行合并，该过程不断重复，直至达到预设的聚类簇个数。这里的关键是如何计算聚类簇之间的距离。"
   ]
  },
  {
   "cell_type": "markdown",
   "id": "6e2208ab",
   "metadata": {},
   "source": [
    "常见距离计算方法。1.最小距离，取两簇之间最短距离——此时AGNES算法被称为单链接（single-linkage）算法；2.最大距离，顾名思义——此时AGNES算法被称为全链接（complete-linkage）算法；3.平均距离——均链接（average-linkage）算法"
   ]
  },
  {
   "cell_type": "code",
   "execution_count": 1,
   "id": "2bce80ff",
   "metadata": {},
   "outputs": [],
   "source": [
    "import numpy as np\n",
    "import matplotlib.pyplot as plt\n",
    "import time\n",
    "import pandas as pd\n",
    "import copy\n",
    "import random\n",
    "from pylab import mpl\n",
    "mpl.rcParams['font.sans-serif'] = ['SimHei']"
   ]
  },
  {
   "cell_type": "markdown",
   "id": "d3cc699f",
   "metadata": {},
   "source": [
    "#### 数据处理"
   ]
  },
  {
   "cell_type": "code",
   "execution_count": 2,
   "id": "a9b1406c",
   "metadata": {},
   "outputs": [],
   "source": [
    "dataSet = pd.read_excel(r'D:\\a学业信计\\a研究生\\数据集\\西瓜书\\watermelon4.0.xlsx')\n",
    "data = dataSet.values\n",
    "labels = dataSet.columns.values\n",
    "indexs = dataSet.index.values\n",
    "data = data.tolist()"
   ]
  },
  {
   "cell_type": "markdown",
   "id": "7e2a0a35",
   "metadata": {},
   "source": [
    "#### 定义函数"
   ]
  },
  {
   "cell_type": "code",
   "execution_count": 3,
   "id": "ab9357a7",
   "metadata": {},
   "outputs": [],
   "source": [
    "def EuclideanMetric(x, y):\n",
    "    #定义距离函数，计算欧氏距离\n",
    "    return np.sqrt(sum(pow(np.array(x) - np.array(y), 2)))"
   ]
  },
  {
   "cell_type": "code",
   "execution_count": 17,
   "id": "8c460abe",
   "metadata": {},
   "outputs": [],
   "source": [
    "def show_now_kmeans(C, k):\n",
    "    #根据当前划分结果绘制聚类图象\n",
    "    colors = ['b', 'y', 'g', 'c', 'k', 'r', 'm', 'orange', 'mistyrose', 'gold']\n",
    "    plt.figure()\n",
    "    for i in range(k):\n",
    "        plt.plot(np.array(C[i])[:,0], np.array(C[i])[:,1], colors[i] + '.', label = '类别' + str(i + 1))\n",
    "    \n",
    "    plt.xlabel(labels[0])\n",
    "    plt.ylabel(labels[1])"
   ]
  },
  {
   "cell_type": "code",
   "execution_count": 18,
   "id": "cdd665ed",
   "metadata": {},
   "outputs": [],
   "source": [
    "def distance_metric(C_i, C_j):\n",
    "    #返回两个簇之间的距离矩阵\n",
    "    dist_metric = np.zeros((len(C_i), len(C_j)))\n",
    "    for i in range(len(C_i)):\n",
    "        for j in range(len(C_j)):\n",
    "            dist_metric[i][j] = EuclideanMetric(C_i[i], C_j[j])\n",
    "    return dist_metric\n",
    "\n",
    "def d_min(C_i, C_j):\n",
    "    #返回两个簇之间的最小距离\n",
    "    return distance_metric(C_i, C_j).min()\n",
    "\n",
    "def d_max(C_i, C_j):\n",
    "    #返回两个簇之间的最大值\n",
    "    return distance_metric(C_i, C_j).max()\n",
    "\n",
    "def d_avg(C_i, C_j):\n",
    "    #返回两个簇之间的平均距离\n",
    "    return np.sum(distance_metric(C_i, C_j)) / (len(C_i) * len(C_j))\n",
    "    "
   ]
  },
  {
   "cell_type": "code",
   "execution_count": 19,
   "id": "9d234462",
   "metadata": {},
   "outputs": [
    {
     "name": "stdout",
     "output_type": "stream",
     "text": [
      "[[5.65685425]\n",
      " [4.47213595]]\n",
      "5.757752477800684\n"
     ]
    }
   ],
   "source": [
    "print(distance_metric([[1,2],[1,4]],[[5,6]]))\n",
    "print(d_avg([[1,2],[1,4]],[[5,6],[6,7]]))"
   ]
  },
  {
   "cell_type": "code",
   "execution_count": 20,
   "id": "e129a728",
   "metadata": {},
   "outputs": [],
   "source": [
    "def AGNES(data, dist, k):\n",
    "    '''\n",
    "    data:数据集\n",
    "    dist:度量函数\n",
    "    k:聚类簇数\n",
    "    '''\n",
    "    C = []#簇集合\n",
    "    for i in range(len(data)):#初始化单样本聚类簇\n",
    "        C_i = []\n",
    "        C_i.append(data[i])\n",
    "        C.append(C_i)\n",
    "    #print(C)#check\n",
    "    \n",
    "    all_C_metric = np.ones((len(data), len(data))) * 100\n",
    "    for i in range(len(data)):#初始化聚类簇距离矩阵\n",
    "        for j in range(i + 1, len(data)):\n",
    "            all_C_metric[i][j] = dist(C[i], C[j])\n",
    "            all_C_metric[j][i] = all_C_metric[i][j]\n",
    "    \n",
    "    q = len(data)#设置当前簇聚类个数\n",
    "    while q > k:\n",
    "        min_index = np.unravel_index(all_C_metric.argmin(), all_C_metric.shape) \n",
    "        j = max(min_index)\n",
    "        i = min(min_index)\n",
    "        C[i].extend(C[j])#合并两个聚类簇\n",
    "        #for j in range(j + 1, q):#重新编号后面的聚类簇\n",
    "        #    C[j - 1] = C[j]\n",
    "        C.pop(j)\n",
    "        \n",
    "        #print('检查', q, len(C))#check应该是每次都减一\n",
    "        all_C_metric = np.delete(all_C_metric, j, axis = 0)\n",
    "        all_C_metric = np.delete(all_C_metric, j, axis = 1)#删除距离矩阵all_C_metric的第j行j列\n",
    "        for j in range(q - 1):#更新距离矩阵\n",
    "            all_C_metric[i][j] = dist(C[i], C[j])\n",
    "            all_C_metric[j][i] = all_C_metric[j][i]\n",
    "            all_C_metric[i][i] = 100\n",
    "        q -= 1\n",
    "    return C"
   ]
  },
  {
   "cell_type": "code",
   "execution_count": 27,
   "id": "63c0fcb6",
   "metadata": {
    "scrolled": true
   },
   "outputs": [],
   "source": [
    "k = 4\n",
    "C = AGNES(data, d_max, k)"
   ]
  },
  {
   "cell_type": "code",
   "execution_count": 28,
   "id": "2ca8117f",
   "metadata": {},
   "outputs": [
    {
     "data": {
      "text/plain": [
       "<matplotlib.legend.Legend at 0x28e00fe7c70>"
      ]
     },
     "execution_count": 28,
     "metadata": {},
     "output_type": "execute_result"
    },
    {
     "data": {
      "image/png": "[encoded data removed]",
      "text/plain": [
       "<Figure size 432x288 with 1 Axes>"
      ]
     },
     "metadata": {
      "needs_background": "light"
     },
     "output_type": "display_data"
    }
   ],
   "source": [
    "show_now_kmeans(C, k)\n",
    "plt.title('AGNES层次聚类')\n",
    "plt.legend()"
   ]
  },
  {
   "cell_type": "code",
   "execution_count": null,
   "id": "4b4f6009",
   "metadata": {},
   "outputs": [],
   "source": []
  },
  {
   "cell_type": "markdown",
   "id": "80745912",
   "metadata": {},
   "source": [
    "#### 问：AGNES算法使用最小距离和最大距离的区别？"
   ]
  },
  {
   "cell_type": "markdown",
   "id": "8aaed7d0",
   "metadata": {},
   "source": [
    "分析：最小距离要合并的是两个簇边界最短的簇，适合簇内联系区别较大的情况，也就是要分类的类别数量比较大，比如一种样本的数量占大多数。最大距离比较更平均地进行划分。"
   ]
  },
  {
   "cell_type": "markdown",
   "id": "9a5fa92c",
   "metadata": {},
   "source": [
    "### 使用sklearn方法实现层次聚类"
   ]
  },
  {
   "cell_type": "code",
   "execution_count": null,
   "id": "c50aafb4",
   "metadata": {},
   "outputs": [],
   "source": []
  }
 ],
 "metadata": {
  "kernelspec": {
   "display_name": "Python 3 (ipykernel)",
   "language": "python",
   "name": "python3"
  },
  "language_info": {
   "codemirror_mode": {
    "name": "ipython",
    "version": 3
   },
   "file_extension": ".py",
   "mimetype": "text/x-python",
   "name": "python",
   "nbconvert_exporter": "python",
   "pygments_lexer": "ipython3",
   "version": "3.8.13"
  }
 },
 "nbformat": 4,
 "nbformat_minor": 5
}
