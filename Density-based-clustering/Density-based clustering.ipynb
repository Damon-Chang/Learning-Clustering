{
 "cells": [
  {
   "cell_type": "markdown",
   "id": "5faf4e7f",
   "metadata": {},
   "source": [
    "# 密度聚类（Density-based clustering）"
   ]
  },
  {
   "cell_type": "markdown",
   "id": "86f9fd44",
   "metadata": {},
   "source": [
    "又称基于密度的聚类，从样本密度的角度来考察样本之间的可连接性，并基于可连接性不断扩展聚类簇以获得最终的聚类结果。"
   ]
  },
  {
   "cell_type": "markdown",
   "id": "83cf5b07",
   "metadata": {},
   "source": [
    "DBSCAN（Density-based Spatial Clustering of Applications with Noise）是一种著名的聚类算法，它基于一组“邻域”（neighborhood）参数来刻画样本分布的紧密程度。"
   ]
  },
  {
   "cell_type": "markdown",
   "id": "41bdbd4f",
   "metadata": {},
   "source": [
    "DBSCAN中关于“簇”的定义：由密度可达关系导出的最大密度相连样本集合。"
   ]
  },
  {
   "cell_type": "code",
   "execution_count": 1,
   "id": "6fdc1c3c",
   "metadata": {},
   "outputs": [],
   "source": [
    "import numpy as np\n",
    "import matplotlib.pyplot as plt\n",
    "import time\n",
    "import pandas as pd\n",
    "import copy\n",
    "import random\n",
    "from pylab import mpl\n",
    "mpl.rcParams['font.sans-serif'] = ['SimHei']"
   ]
  },
  {
   "cell_type": "markdown",
   "id": "4c0ba23b",
   "metadata": {},
   "source": [
    "#### 数据获取与处理"
   ]
  },
  {
   "cell_type": "code",
   "execution_count": 2,
   "id": "0c944c78",
   "metadata": {},
   "outputs": [],
   "source": [
    "dataSet = pd.read_excel(r'D:\\a学业信计\\a研究生\\数据集\\西瓜书\\watermelon4.0.xlsx')\n",
    "data = dataSet.values\n",
    "labels = dataSet.columns.values\n",
    "indexs = dataSet.index.values\n",
    "data = data.tolist()"
   ]
  },
  {
   "cell_type": "markdown",
   "id": "d93e3dea",
   "metadata": {},
   "source": [
    "#### 邻域参数设置"
   ]
  },
  {
   "cell_type": "code",
   "execution_count": 3,
   "id": "d20cbc27",
   "metadata": {},
   "outputs": [],
   "source": [
    "epsilon = 0.11\n",
    "MinPts = 5"
   ]
  },
  {
   "cell_type": "markdown",
   "id": "6b28c50b",
   "metadata": {},
   "source": [
    "#### 函数"
   ]
  },
  {
   "cell_type": "code",
   "execution_count": 4,
   "id": "b7bd18c0",
   "metadata": {},
   "outputs": [],
   "source": [
    "def EuclideanMetric(x, y):\n",
    "    #定义距离函数，计算欧氏距离\n",
    "    return np.sqrt(sum(pow(np.array(x) - np.array(y), 2)))"
   ]
  },
  {
   "cell_type": "code",
   "execution_count": 5,
   "id": "a0e515f4",
   "metadata": {},
   "outputs": [],
   "source": [
    "def neighbours(x):\n",
    "    C_current = []\n",
    "    #C_current.append(x)\n",
    "    for j in range(len(indexs)):\n",
    "        if EuclideanMetric(x, data[j]) <= epsilon:\n",
    "            C_current.append(data[j])\n",
    "    return C_current"
   ]
  },
  {
   "cell_type": "code",
   "execution_count": 6,
   "id": "dca02b4f",
   "metadata": {},
   "outputs": [],
   "source": [
    "#根据当前划分结果绘制聚类图象\n",
    "def show_now_kmeans(C, C_density):\n",
    "    colors = ['b', 'y', 'g', 'c', 'k', 'orange', 'mistyrose', 'gold']\n",
    "    plt.figure()\n",
    "    C_density = np.array(C_density)\n",
    "    plt.scatter(C_density[:,0], C_density[:,1], marker = 'o', s = 50, facecolor = 'none', edgecolors = 'r', label = '核心对象')\n",
    "    for i in range(k):\n",
    "        plt.plot(np.array(C[i])[:,0], np.array(C[i])[:,1], colors[i] + '.', label = '类别' + str(i + 1))\n",
    "    \n",
    "    plt.xlabel(labels[0])\n",
    "    plt.ylabel(labels[1])"
   ]
  },
  {
   "cell_type": "markdown",
   "id": "344f1a26",
   "metadata": {},
   "source": [
    "#### 初始化核心对象"
   ]
  },
  {
   "cell_type": "code",
   "execution_count": 7,
   "id": "8fbec271",
   "metadata": {},
   "outputs": [],
   "source": [
    "C_points = []\n",
    "for i in range(len(indexs)):\n",
    "    if len(neighbours(data[i])) >= MinPts:\n",
    "        C_points.append(data[i])\n",
    "        \n",
    "    '''C_current = []\n",
    "    C_current.append(data[i])\n",
    "    for j in range(len(index)):\n",
    "        if EuclideanMetric(data[i], data[j]) <= epsilon:\n",
    "            C_current.append(data[j])\n",
    "    if len(C_current) >= MinPts + 1:#除去该点本身\n",
    "        C_points.append(data[i])\n",
    "        #C.append(C_current)'''\n",
    "    \n",
    "C_points_copy = copy.deepcopy(C_points)   \n"
   ]
  },
  {
   "cell_type": "code",
   "execution_count": 8,
   "id": "53a2d4fc",
   "metadata": {},
   "outputs": [
    {
     "data": {
      "text/plain": [
       "13"
      ]
     },
     "execution_count": 8,
     "metadata": {},
     "output_type": "execute_result"
    }
   ],
   "source": [
    "len(C_points)"
   ]
  },
  {
   "cell_type": "markdown",
   "id": "076f1e3b",
   "metadata": {},
   "source": [
    "#### 初始化聚类簇数"
   ]
  },
  {
   "cell_type": "code",
   "execution_count": 9,
   "id": "2d3403b5",
   "metadata": {},
   "outputs": [],
   "source": [
    "k = 0"
   ]
  },
  {
   "cell_type": "markdown",
   "id": "4a602e89",
   "metadata": {},
   "source": [
    "#### 初始化未访问样本集合"
   ]
  },
  {
   "cell_type": "code",
   "execution_count": 10,
   "id": "6e9702f9",
   "metadata": {},
   "outputs": [],
   "source": [
    "data_remain = copy.deepcopy(data)"
   ]
  },
  {
   "cell_type": "markdown",
   "id": "9a158ef1",
   "metadata": {},
   "source": [
    "#### while循环进行分类"
   ]
  },
  {
   "cell_type": "code",
   "execution_count": 11,
   "id": "ad896ca6",
   "metadata": {},
   "outputs": [],
   "source": [
    "C = []\n",
    "k = 0\n",
    "while len(C_points) > 0:\n",
    "    \n",
    "    data_remain_old = copy.deepcopy(data_remain)#记录当前未访问样本集合\n",
    "    Q = []#初始化队列\n",
    "    index = random.randint(0, len(C_points) - 1)\n",
    "    Q.append(C_points[index])\n",
    "    data_remain = list(filter(lambda x: x not in Q, data_remain))\n",
    "    \n",
    "    while len(Q) > 0:\n",
    "        q = Q[0]\n",
    "        Q.remove(q)#取出第一个元素\n",
    "        if len(neighbours(q)) >= MinPts:\n",
    "            delta = [x for x in data_remain if x in neighbours(q)]#包含q及其领域内元素\n",
    "            Q.extend(delta)\n",
    "            data_remain = list(filter(lambda x: x not in delta, data_remain))\n",
    "            #print(len(data_remain))\n",
    "    \n",
    "    k += 1\n",
    "    C_k = list(filter(lambda x: x not in data_remain, data_remain_old))\n",
    "    C.append(C_k)\n",
    "    C_points = list(filter(lambda x: x not in C_k, C_points))\n",
    "    #print(C_points)\n",
    "    #print(len(C))"
   ]
  },
  {
   "cell_type": "markdown",
   "id": "2daaf7f0",
   "metadata": {},
   "source": [
    "#### 绘制分类结果"
   ]
  },
  {
   "cell_type": "code",
   "execution_count": 12,
   "id": "fc6a3053",
   "metadata": {},
   "outputs": [
    {
     "data": {
      "text/plain": [
       "Text(0.5, 1.0, '分类结果')"
      ]
     },
     "execution_count": 12,
     "metadata": {},
     "output_type": "execute_result"
    },
    {
     "data": {
      "text/plain": [
       "<Figure size 432x288 with 0 Axes>"
      ]
     },
     "metadata": {},
     "output_type": "display_data"
    },
    {
     "data": {
      "image/png": "[encoded data removed]",
      "text/plain": [
       "<Figure size 432x288 with 1 Axes>"
      ]
     },
     "metadata": {
      "needs_background": "light"
     },
     "output_type": "display_data"
    }
   ],
   "source": [
    "plt.figure()\n",
    "show_now_kmeans(C, C_points_copy)\n",
    "plt.plot(np.array(data_remain)[:,0], np.array(data_remain)[:,1], 'k*' , label = '噪声样本')\n",
    "plt.legend()\n",
    "plt.title('分类结果')"
   ]
  },
  {
   "cell_type": "markdown",
   "id": "cc5e8cb7",
   "metadata": {},
   "source": [
    "### 啊啊啊啊啊！成功地一次编程，和书上的一样耶！"
   ]
  },
  {
   "cell_type": "markdown",
   "id": "8917d8f8",
   "metadata": {},
   "source": [
    "## 使用sklearn实现密度聚类（DBSCAN算法）"
   ]
  },
  {
   "cell_type": "code",
   "execution_count": 13,
   "id": "f97d7517",
   "metadata": {},
   "outputs": [],
   "source": [
    "from sklearn.cluster import DBSCAN"
   ]
  },
  {
   "cell_type": "code",
   "execution_count": 14,
   "id": "b6d83349",
   "metadata": {},
   "outputs": [],
   "source": [
    "y_pred = DBSCAN(eps = 0.11, min_samples = 5).fit_predict(data)"
   ]
  },
  {
   "cell_type": "code",
   "execution_count": 15,
   "id": "7c48acf1",
   "metadata": {},
   "outputs": [
    {
     "data": {
      "text/plain": [
       "array([ 3,  0, -1,  1,  1,  3,  3,  0,  0,  1,  3,  2,  1,  0,  1,  0,  0,\n",
       "        2,  1,  1,  1,  0,  2,  3,  1,  0, -1,  0,  2,  2], dtype=int64)"
      ]
     },
     "execution_count": 15,
     "metadata": {},
     "output_type": "execute_result"
    }
   ],
   "source": [
    "y_pred"
   ]
  },
  {
   "cell_type": "markdown",
   "id": "6cf42d16",
   "metadata": {},
   "source": [
    "#### 结果可视化"
   ]
  },
  {
   "cell_type": "code",
   "execution_count": null,
   "id": "9d76822d",
   "metadata": {},
   "outputs": [],
   "source": [
    "show_now_kmeans()"
   ]
  },
  {
   "cell_type": "code",
   "execution_count": 22,
   "id": "5e2317e5",
   "metadata": {},
   "outputs": [
    {
     "data": {
      "text/plain": [
       "<matplotlib.legend.Legend at 0x23aa5076e50>"
      ]
     },
     "execution_count": 22,
     "metadata": {},
     "output_type": "execute_result"
    },
    {
     "data": {
      "image/png": "[encoded data removed]",
      "text/plain": [
       "<Figure size 432x288 with 1 Axes>"
      ]
     },
     "metadata": {
      "needs_background": "light"
     },
     "output_type": "display_data"
    }
   ],
   "source": [
    "def show_clustered_samples(f):#基于分类后的样本对应标签clustered_indexs向量可视化\n",
    "    n_clusters = max(f) + 1\n",
    "    C = []\n",
    "    C_dark = []\n",
    "    for i in range(n_clusters):\n",
    "        C.append([])\n",
    "    for i in range(len(f)):\n",
    "        if f[i] != -1:\n",
    "            C[f[i]].append(data[i])\n",
    "        else:\n",
    "            C_dark.append(data[i])\n",
    "    show_now_kmeans(C,C_points_copy)\n",
    "    plt.plot(np.array(C_dark)[:,0], np.array(C_dark)[:,1], 'k*', label = '噪声样本')\n",
    "    return True\n",
    "show_clustered_samples(y_pred)\n",
    "plt.title('scipy层次聚类可视化')\n",
    "plt.legend()"
   ]
  },
  {
   "cell_type": "code",
   "execution_count": null,
   "id": "fddb75b7",
   "metadata": {},
   "outputs": [],
   "source": []
  }
 ],
 "metadata": {
  "kernelspec": {
   "display_name": "Python 3 (ipykernel)",
   "language": "python",
   "name": "python3"
  },
  "language_info": {
   "codemirror_mode": {
    "name": "ipython",
    "version": 3
   },
   "file_extension": ".py",
   "mimetype": "text/x-python",
   "name": "python",
   "nbconvert_exporter": "python",
   "pygments_lexer": "ipython3",
   "version": "3.8.13"
  }
 },
 "nbformat": 4,
 "nbformat_minor": 5
}
